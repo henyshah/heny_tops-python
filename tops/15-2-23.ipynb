{
 "cells": [
  {
   "cell_type": "code",
   "execution_count": 2,
   "metadata": {},
   "outputs": [
    {
     "name": "stdout",
     "output_type": "stream",
     "text": [
      "\n",
      "It is +ve\n"
     ]
    }
   ],
   "source": [
    "# wap program to find whether the value is +ve or -ve\n",
    "n = int(input(\"Enter number : \"))\n",
    "if n>0:\n",
    "    print(\"\\nIt is +ve\")\n",
    "\n",
    "else: \n",
    "    print(\"\\nIt is -ve\")"
   ]
  },
  {
   "cell_type": "code",
   "execution_count": 3,
   "metadata": {},
   "outputs": [
    {
     "name": "stdout",
     "output_type": "stream",
     "text": [
      "\n",
      "It is even\n"
     ]
    }
   ],
   "source": [
    "#wap program to find whether the number is even or odd \n",
    "n = int(input(\"Enter number : \"))\n",
    "if (n%2)==0:\n",
    "    print(\"\\nIt is even\")\n",
    "else: \n",
    "    print(\"\\nIt is odd\")"
   ]
  },
  {
   "cell_type": "code",
   "execution_count": 4,
   "metadata": {},
   "outputs": [
    {
     "name": "stdout",
     "output_type": "stream",
     "text": [
      "\n",
      "n1 is max\n"
     ]
    }
   ],
   "source": [
    "#wap program to find the max of 2 nos. \n",
    "n1 = int(input(\"Enter number n1: \"))\n",
    "n2 = int(input(\"Enter number n2: \"))\n",
    "if n1>n2:\n",
    "    print(\"\\nn1 is max\")\n",
    "else:\n",
    "    print(\"\\nn2 is max\")\n"
   ]
  },
  {
   "cell_type": "code",
   "execution_count": 8,
   "metadata": {},
   "outputs": [
    {
     "name": "stdout",
     "output_type": "stream",
     "text": [
      "A = 2 B = 3 C = 4\n",
      "4 is greater\n"
     ]
    }
   ],
   "source": [
    "# wap program to accept 3 values and find max of 3\n",
    "n1 = int(input(\"Enter A : \"))\n",
    "n2 = int(input(\"Enter B : \"))\n",
    "n3 = int(input(\"Enter C : \"))\n",
    "print(\"A =\", n1,\"B =\", n2,\"C =\", n3)\n",
    "\n",
    "if n1>n2:\n",
    "    if n1>n3:\n",
    "        print(n1,\"is greater\")\n",
    "    else:\n",
    "        print(n3, \"is greater\")\n",
    "if n2>n3:\n",
    "    print(n2,\"is greater\")\n",
    "else:\n",
    "    print(n3,\"is greater\")"
   ]
  },
  {
   "cell_type": "code",
   "execution_count": 1,
   "metadata": {},
   "outputs": [
    {
     "name": "stdout",
     "output_type": "stream",
     "text": [
      "\n",
      "roll no. :  22\n",
      "students name:  heny\n",
      "total:  264\n",
      "percentage:  88.0\n",
      "class is distinction\n"
     ]
    }
   ],
   "source": [
    "# wap python program to get student's percentage using ladder if else\n",
    "roll = int(input(\"Enter roll no. : \"))\n",
    "name = str(input(\"Enter students name: \"))\n",
    "p = int(input(\"Enter physics marks: \"))\n",
    "c = int(input(\"Enter chemistry marks: \"))\n",
    "m = int(input(\" Enter maths marks: \"))\n",
    "total=(p+c+m)\n",
    "percentage=total/3\n",
    "print()\n",
    "print(\"roll no. : \", roll)\n",
    "print(\"students name: \", name)\n",
    "print(\"total: \", total)\n",
    "print(\"percentage: \", percentage)\n",
    " \n",
    "if percentage>=75:\n",
    "    print(\"class is distinction\")\n",
    "elif percentage>=60:\n",
    "    print(\"first class\")\n",
    "elif percentage>=50:\n",
    "    print(\"second class\")\n",
    "elif percentage>=40:\n",
    "    print(\"pass class\")\n",
    "else:\n",
    "    print(\"fail\")"
   ]
  }
 ],
 "metadata": {
  "kernelspec": {
   "display_name": "Python 3",
   "language": "python",
   "name": "python3"
  },
  "language_info": {
   "codemirror_mode": {
    "name": "ipython",
    "version": 3
   },
   "file_extension": ".py",
   "mimetype": "text/x-python",
   "name": "python",
   "nbconvert_exporter": "python",
   "pygments_lexer": "ipython3",
   "version": "3.10.7"
  },
  "orig_nbformat": 4,
  "vscode": {
   "interpreter": {
    "hash": "369f2c481f4da34e4445cda3fffd2e751bd1c4d706f27375911949ba6bb62e1c"
   }
  }
 },
 "nbformat": 4,
 "nbformat_minor": 2
}
