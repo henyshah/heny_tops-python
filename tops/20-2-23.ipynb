{
 "cells": [
  {
   "cell_type": "code",
   "execution_count": 1,
   "metadata": {},
   "outputs": [
    {
     "name": "stdout",
     "output_type": "stream",
     "text": [
      "odd:  1\n",
      "even:  2\n",
      "odd:  3\n",
      "even:  4\n",
      "odd:  5\n",
      "even:  6\n",
      "odd:  7\n",
      "even:  8\n",
      "odd:  9\n",
      "even:  10\n",
      "odd:  11\n",
      "even:  12\n",
      "odd:  13\n",
      "sum of even nos.:  42\n",
      "sum of odd nos.:  49\n"
     ]
    }
   ],
   "source": [
    "#  find the sum of even and odd using for loop\n",
    "\n",
    "n=int(input(\"enter number: \"))\n",
    "evensum=0\n",
    "oddsum=0\n",
    "for i in range(1,n+1):\n",
    "    if i%2==0:\n",
    "        print(\"even: \",i)\n",
    "        evensum=evensum+i\n",
    "    else:\n",
    "        print(\"odd: \",i)\n",
    "        oddsum=oddsum+i\n",
    "print(\"sum of even nos.: \",evensum)\n",
    "print(\"sum of odd nos.: \",oddsum)\n"
   ]
  },
  {
   "cell_type": "code",
   "execution_count": 2,
   "metadata": {},
   "outputs": [
    {
     "name": "stdout",
     "output_type": "stream",
     "text": [
      "********\n",
      "*******\n",
      "******\n",
      "*****\n",
      "****\n",
      "***\n",
      "**\n",
      "*\n",
      "\n"
     ]
    }
   ],
   "source": [
    "# patterns\n",
    "# pattern1\n",
    "for i in range(1,10):\n",
    "    print(\"*\"*(9-i))\n"
   ]
  },
  {
   "cell_type": "code",
   "execution_count": 3,
   "metadata": {},
   "outputs": [
    {
     "name": "stdout",
     "output_type": "stream",
     "text": [
      "*\n",
      "**\n",
      "***\n",
      "****\n",
      "*****\n",
      "******\n",
      "*******\n",
      "********\n",
      "*********\n"
     ]
    }
   ],
   "source": [
    "#  pattern2\n",
    "for i in range(1,10):\n",
    "    print(\"*\"*i)\n"
   ]
  },
  {
   "cell_type": "code",
   "execution_count": 4,
   "metadata": {},
   "outputs": [
    {
     "name": "stdout",
     "output_type": "stream",
     "text": [
      "          *\n",
      "         **\n",
      "        ***\n",
      "       ****\n",
      "      *****\n",
      "     ******\n",
      "    *******\n",
      "   ********\n",
      "  *********\n",
      " **********\n"
     ]
    }
   ],
   "source": [
    "# pattern3\n",
    "for i in range(1,11):\n",
    "    print(\" \"*(10-i),\"*\"*i)\n"
   ]
  },
  {
   "cell_type": "code",
   "execution_count": 5,
   "metadata": {},
   "outputs": [
    {
     "name": "stdout",
     "output_type": "stream",
     "text": [
      "           *\n",
      "          * *\n",
      "         * * *\n",
      "        * * * *\n",
      "       * * * * *\n",
      "      * * * * * *\n",
      "     * * * * * * *\n",
      "    * * * * * * * *\n",
      "   * * * * * * * * *\n",
      "  * * * * * * * * * *\n"
     ]
    }
   ],
   "source": [
    "# pattern4\n",
    "for i in range(1,11):\n",
    "    print(\" \"*(10-i),\" *\"*i)\n"
   ]
  },
  {
   "cell_type": "code",
   "execution_count": 6,
   "metadata": {},
   "outputs": [
    {
     "name": "stdout",
     "output_type": "stream",
     "text": [
      "           *\n",
      "          * *\n",
      "         * * *\n",
      "        * * * *\n",
      "       * * * * *\n",
      "      * * * * * *\n",
      "     * * * * * * *\n",
      "    * * * * * * * *\n",
      "   * * * * * * * * *\n",
      "  * * * * * * * * * *\n",
      "   * * * * * * * * *\n",
      "    * * * * * * * *\n",
      "     * * * * * * *\n",
      "      * * * * * *\n",
      "       * * * * *\n",
      "        * * * *\n",
      "         * * *\n",
      "          * *\n",
      "           *\n"
     ]
    }
   ],
   "source": [
    "# pattern5\n",
    "for i in range(1,10):\n",
    "    print(\" \"*(10-i),\" *\"*i)\n",
    "for i in range(10,0,-1):\n",
    "    print(\" \"*(10-i),\" *\"*i)"
   ]
  },
  {
   "cell_type": "code",
   "execution_count": 7,
   "metadata": {},
   "outputs": [
    {
     "name": "stdout",
     "output_type": "stream",
     "text": [
      "i:  1\n",
      "i:  2\n",
      "i:  3\n"
     ]
    }
   ],
   "source": [
    "# break statement\n",
    "# break : It is used to stop the loop.\n",
    "for i in range(1,10):\n",
    "    if i==4 or i==7:\n",
    "        break\n",
    "    else:\n",
    "        print(\"i: \",i)\n"
   ]
  },
  {
   "cell_type": "code",
   "execution_count": 8,
   "metadata": {},
   "outputs": [
    {
     "name": "stdout",
     "output_type": "stream",
     "text": [
      "1\n",
      "3\n",
      "5\n",
      "7\n",
      "9\n"
     ]
    }
   ],
   "source": [
    "# continue\n",
    "# continue : It is use to skip the condition\n",
    "for i in range(1,10):\n",
    "    if i%2==0:\n",
    "        continue\n",
    "    else:\n",
    "        print(i)\n"
   ]
  },
  {
   "cell_type": "code",
   "execution_count": 9,
   "metadata": {},
   "outputs": [
    {
     "name": "stdout",
     "output_type": "stream",
     "text": [
      "i:  1\n",
      "i:  2\n",
      "i:  3\n",
      "i:  5\n",
      "i:  6\n",
      "i:  8\n",
      "i:  9\n"
     ]
    }
   ],
   "source": [
    "for i in range(1,10):\n",
    "    if i==4 or i==7:\n",
    "        continue\n",
    "    else:\n",
    "        print(\"i: \",i)"
   ]
  }
 ],
 "metadata": {
  "kernelspec": {
   "display_name": "Python 3",
   "language": "python",
   "name": "python3"
  },
  "language_info": {
   "codemirror_mode": {
    "name": "ipython",
    "version": 3
   },
   "file_extension": ".py",
   "mimetype": "text/x-python",
   "name": "python",
   "nbconvert_exporter": "python",
   "pygments_lexer": "ipython3",
   "version": "3.10.7"
  },
  "orig_nbformat": 4,
  "vscode": {
   "interpreter": {
    "hash": "369f2c481f4da34e4445cda3fffd2e751bd1c4d706f27375911949ba6bb62e1c"
   }
  }
 },
 "nbformat": 4,
 "nbformat_minor": 2
}
