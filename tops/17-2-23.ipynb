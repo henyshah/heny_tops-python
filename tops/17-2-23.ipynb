{
 "cells": [
  {
   "cell_type": "code",
   "execution_count": 2,
   "metadata": {},
   "outputs": [
    {
     "name": "stdout",
     "output_type": "stream",
     "text": [
      "yes\n",
      "yes\n"
     ]
    }
   ],
   "source": [
    "# Loop : It is continously repeating the same task again and again is called a loop.\n",
    "\n",
    "    # In Python,\n",
    "\n",
    "    # There are 2 Loops\n",
    "\n",
    "    # 1) while loop\n",
    "    # 2) for loop\n",
    "\n",
    "    # Every Loop will have 3 common facts\n",
    "\n",
    "    # 1) Initialization\n",
    "    # 2) Conditional\n",
    "    # 3) Updation (increment/decrement)\n",
    "\n",
    "\n",
    "\n",
    "    # a) while\n",
    "\n",
    "    # syntax:\n",
    "    #             initialization\n",
    "    #             while condition:\n",
    "    #                 statement\n",
    "    #                 updation\n",
    "# while loop\n",
    "n=int(input(\"enter number: \"))\n",
    "while n>0:\n",
    "    print(\"yes\")\n",
    "    n=n-1"
   ]
  },
  {
   "cell_type": "code",
   "execution_count": 3,
   "metadata": {},
   "outputs": [
    {
     "name": "stdout",
     "output_type": "stream",
     "text": [
      "1\n",
      "2\n",
      "3\n",
      "4\n",
      "5\n",
      "6\n",
      "7\n",
      "8\n",
      "9\n",
      "10\n",
      "11\n",
      "12\n",
      "13\n",
      "14\n",
      "15\n",
      "16\n",
      "17\n",
      "18\n",
      "19\n",
      "20\n"
     ]
    }
   ],
   "source": [
    "# wap program to print nos. from 1 to 20\n",
    "n = 1\n",
    "while n<=20:\n",
    "    print(n)\n",
    "    n = n + 1"
   ]
  },
  {
   "cell_type": "code",
   "execution_count": 10,
   "metadata": {},
   "outputs": [
    {
     "name": "stdout",
     "output_type": "stream",
     "text": [
      "sum 5\n",
      "sum 9\n",
      "sum 12\n",
      "sum 14\n",
      "sum 15\n"
     ]
    }
   ],
   "source": [
    "#  wap program to print sum of no. 5\n",
    "n  = int(input(\"enter number: \"))\n",
    "sum=0\n",
    "while n>0:\n",
    "    sum=sum+n\n",
    "    n=n-1\n",
    "    print(\"sum\",sum)"
   ]
  },
  {
   "cell_type": "code",
   "execution_count": 11,
   "metadata": {},
   "outputs": [
    {
     "name": "stdout",
     "output_type": "stream",
     "text": [
      "0\n",
      "1\n",
      "2\n",
      "3\n",
      "4\n",
      "5\n",
      "6\n",
      "7\n",
      "8\n",
      "9\n"
     ]
    }
   ],
   "source": [
    "# for loop\n",
    "# In C,C++ or Java , the syntax of for loop is\n",
    "\n",
    "    # for(i=0;i<10;i++)\n",
    "    # {\n",
    "    #     statement\n",
    "    # }\n",
    "\n",
    "    # In Python the for loop syntax is changed drastically.\n",
    "\n",
    "    # syntax :\n",
    "\n",
    "    #         for variable-name in range(start-value,end-value,updation):\n",
    "    #             statement\n",
    "\n",
    "    #         e.g\n",
    "\n",
    "    #             for i in range(1,10,1):\n",
    "    #                 statement\n",
    "\n",
    "    #         i -> variable-name\n",
    "    #         range -> Inbuilt function in Python\n",
    "\n",
    "    #         range() have 3 parameters\n",
    "\n",
    "    #         1) Start Value\n",
    "    #         2) End Value\n",
    "    #         3) Updation   (increment/decrement)\n",
    "\n",
    "\n",
    "    #     for i in range(10):\n",
    "    #         print(i)\n",
    "                \n",
    "    # 4 Variants of For Loop.\n",
    "\n",
    "    # - By Default the Loop will start from 0,if you do not\n",
    "    # provide the start value.\n",
    "    # - By Default the Incremented value is +1, if you do not\n",
    "    #   provide the updation.\n",
    "\n",
    "# 1st variant\n",
    "for i in range(10):\n",
    "    print(i)"
   ]
  },
  {
   "cell_type": "code",
   "execution_count": 12,
   "metadata": {},
   "outputs": [
    {
     "name": "stdout",
     "output_type": "stream",
     "text": [
      "0\n",
      "1\n",
      "2\n",
      "3\n",
      "4\n",
      "5\n",
      "6\n",
      "7\n",
      "8\n",
      "9\n",
      "10\n"
     ]
    }
   ],
   "source": [
    "# 2nd variant\n",
    "for i in range(0,11):\n",
    "    print(i)"
   ]
  },
  {
   "cell_type": "code",
   "execution_count": 13,
   "metadata": {},
   "outputs": [
    {
     "name": "stdout",
     "output_type": "stream",
     "text": [
      "0\n",
      "2\n",
      "4\n",
      "6\n",
      "8\n",
      "10\n",
      "12\n",
      "14\n",
      "16\n",
      "18\n",
      "20\n"
     ]
    }
   ],
   "source": [
    "# 3rd variant\n",
    "for i in range(0,22,2):\n",
    "    print(i)"
   ]
  },
  {
   "cell_type": "code",
   "execution_count": 14,
   "metadata": {},
   "outputs": [
    {
     "name": "stdout",
     "output_type": "stream",
     "text": [
      "22\n",
      "20\n",
      "18\n",
      "16\n",
      "14\n",
      "12\n",
      "10\n",
      "8\n",
      "6\n",
      "4\n",
      "2\n"
     ]
    }
   ],
   "source": [
    "# 4th variant\n",
    "for i in range(22,0,-2):\n",
    "    print(i)\n"
   ]
  },
  {
   "cell_type": "code",
   "execution_count": 16,
   "metadata": {},
   "outputs": [
    {
     "name": "stdout",
     "output_type": "stream",
     "text": [
      "sum: 1\n",
      "sum: 3\n",
      "sum: 6\n",
      "sum: 10\n",
      "sum: 15\n",
      "sum: 21\n",
      "sum: 28\n",
      "sum: 36\n",
      "sum: 45\n",
      "sum: 55\n"
     ]
    }
   ],
   "source": [
    "# print sum of 10 using for loop\n",
    "n=int(input(\"enter number: \"))\n",
    "sum=0\n",
    "for i in range(1,n+1):\n",
    "    sum=sum+i\n",
    "    n=n-1\n",
    "    print(\"sum:\",sum)"
   ]
  }
 ],
 "metadata": {
  "kernelspec": {
   "display_name": "Python 3",
   "language": "python",
   "name": "python3"
  },
  "language_info": {
   "codemirror_mode": {
    "name": "ipython",
    "version": 3
   },
   "file_extension": ".py",
   "mimetype": "text/x-python",
   "name": "python",
   "nbconvert_exporter": "python",
   "pygments_lexer": "ipython3",
   "version": "3.10.7"
  },
  "orig_nbformat": 4,
  "vscode": {
   "interpreter": {
    "hash": "369f2c481f4da34e4445cda3fffd2e751bd1c4d706f27375911949ba6bb62e1c"
   }
  }
 },
 "nbformat": 4,
 "nbformat_minor": 2
}
